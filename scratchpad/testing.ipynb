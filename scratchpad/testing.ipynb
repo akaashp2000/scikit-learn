{
 "cells": [
  {
   "cell_type": "code",
   "execution_count": null,
   "metadata": {},
   "outputs": [],
   "source": [
    "import statsmodels.api as sm\n",
    "import statsmodels.formula.api as smf\n",
    "import pandas as pd\n",
    "from sklearn.linear_model import PoissonRegressor\n",
    "from sklearn.preprocessing import (\n",
    "    OneHotEncoder,\n",
    ")"
   ]
  },
  {
   "cell_type": "markdown",
   "metadata": {},
   "source": [
    "# Data"
   ]
  },
  {
   "cell_type": "code",
   "execution_count": null,
   "metadata": {},
   "outputs": [],
   "source": [
    "data = sm.datasets.get_rdataset('Insurance', package='MASS').data"
   ]
  },
  {
   "cell_type": "markdown",
   "metadata": {},
   "source": [
    "# statsmodels formula api"
   ]
  },
  {
   "cell_type": "code",
   "execution_count": null,
   "metadata": {},
   "outputs": [],
   "source": [
    "# Fit Poisson regression using formula interface\n",
    "formula = \"Claims ~ C(District, Treatment(1)) + C(Group, Treatment('<1l')) + C(Age, Treatment('<25')) + Holders\"\n",
    "model_smf_lbfgs = smf.poisson(formula=formula, data=data).fit()\n",
    "print(type(model_smf_lbfgs))\n",
    "print(model_smf_lbfgs.summary())"
   ]
  },
  {
   "cell_type": "code",
   "execution_count": null,
   "metadata": {},
   "outputs": [],
   "source": [
    "# Fit Poisson regression using formula interface WITH lbfgs solver\n",
    "model_smf_lbfgs = smf.poisson(formula=formula, data=data).fit(method=\"lbfgs\")\n",
    "print(type(model_smf_lbfgs))\n",
    "print(model_smf_lbfgs.summary())"
   ]
  },
  {
   "cell_type": "markdown",
   "metadata": {},
   "source": [
    "# sklearn OneHotEncoding"
   ]
  },
  {
   "cell_type": "code",
   "execution_count": null,
   "metadata": {},
   "outputs": [],
   "source": [
    "# with sklearn OneHotEncoder\n",
    "\n",
    "X_train_ohe = OneHotEncoder(sparse_output=False, drop=[1, \"<1l\", \"<25\"]).fit(data[[\"District\", \"Group\", \"Age\"]])\n",
    "X_train_ohe = pd.DataFrame(X_train_ohe.transform(data[[\"District\", \"Group\", \"Age\"]]), columns=X_train_ohe.get_feature_names_out())\n",
    "\n",
    "X_train = pd.concat([X_train_ohe, data[[\"Holders\"]]], axis=1)\n",
    "y_train = data[\"Claims\"]"
   ]
  },
  {
   "cell_type": "markdown",
   "metadata": {},
   "source": [
    "# sklearn PoissonRegressor lbfgs"
   ]
  },
  {
   "cell_type": "code",
   "execution_count": null,
   "metadata": {},
   "outputs": [],
   "source": [
    "# one-hot encode the categorical columns, and drop the baseline column\n",
    "# with lbfgs solver\n",
    "\n",
    "model_sklearn_lbfgs = PoissonRegressor(alpha=0).fit(X_train, y_train)\n",
    "\n",
    "print(model_sklearn_lbfgs.intercept_)\n",
    "print(model_sklearn_lbfgs.coef_)"
   ]
  },
  {
   "cell_type": "code",
   "execution_count": null,
   "metadata": {},
   "outputs": [],
   "source": [
    "# one-hot encode the categorical columns, and drop the baseline column\n",
    "# with lbfgs solver\n",
    "\n",
    "verbose = 3\n",
    "\n",
    "model_sklearn_lbfgs_verbose = PoissonRegressor(alpha=0, verbose=verbose).fit(X_train, y_train)\n",
    "\n",
    "print(model_sklearn_lbfgs_verbose.intercept_)\n",
    "print(model_sklearn_lbfgs_verbose.coef_)"
   ]
  },
  {
   "cell_type": "markdown",
   "metadata": {},
   "source": [
    "# sklearn PoissonRegressor newton-cholesky"
   ]
  },
  {
   "cell_type": "code",
   "execution_count": null,
   "metadata": {},
   "outputs": [],
   "source": [
    "# with newton-cholesky solver\n",
    "\n",
    "model_sklearn_nc = PoissonRegressor(alpha=0, solver='newton-cholesky').fit(X_train, y_train)\n",
    "\n",
    "print(model_sklearn_nc.intercept_)\n",
    "print(model_sklearn_nc.coef_)"
   ]
  }
 ],
 "metadata": {
  "kernelspec": {
   "display_name": "sklearn-dev",
   "language": "python",
   "name": "python3"
  },
  "language_info": {
   "codemirror_mode": {
    "name": "ipython",
    "version": 3
   },
   "file_extension": ".py",
   "mimetype": "text/x-python",
   "name": "python",
   "nbconvert_exporter": "python",
   "pygments_lexer": "ipython3",
   "version": "3.11.4"
  },
  "orig_nbformat": 4
 },
 "nbformat": 4,
 "nbformat_minor": 2
}
